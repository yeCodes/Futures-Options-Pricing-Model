{
 "cells": [
  {
   "cell_type": "markdown",
   "id": "ff298fab",
   "metadata": {},
   "source": [
    "#### Kevin Mooney futures option pricing tutorial - https://www.youtube.com/watch?v=9RW9aRjww7E"
    "#### Credit: Kevin Mooney"
   ]
  },
  {
   "cell_type": "markdown",
   "id": "4f27bc45",
   "metadata": {},
   "source": [
    "#### https://en.wikipedia.org/wiki/Black_model\n",
    "\n",
    "The Black model (sometimes known as the Black-76 model) is a variant of the Black–Scholes option pricing model. Its primary applications are for pricing options on future contracts, bond options, interest rate cap and floors, and swaptions. It was first presented in a paper written by Fischer Black in 1976.\n",
    "\n",
    "Black's model can be generalized into a class of models known as log-normal forward models, also referred to as LIBOR market model."
   ]
  },
  {
   "cell_type": "code",
   "execution_count": 3,
   "id": "88958a07",
   "metadata": {},
   "outputs": [],
   "source": [
    "import numpy as np\n",
    "from scipy.stats import norm"
   ]
  },
  {
   "cell_type": "code",
   "execution_count": 7,
   "id": "3b0a4b9d",
   "metadata": {},
   "outputs": [],
   "source": [
    "def future_call_price(sigma, F, K, r, t):\n",
    "    d1 = np.multiply( 1. / sigma * np.divide(1., np.sqrt(t)),\n",
    "        np.log(F/K) + (r + sigma**2 / 2.) * t  )\n",
    "    d2 = d1 - sigma * np.sqrt(t)\n",
    "    \n",
    "    C = (F * norm.cdf(d1) - norm.cdf(d2) * K) *  np.exp(-r * t)\n",
    "    return C\n",
    "\n",
    "def future_put_price(sigma, F, K, r, t):\n",
    "    d1 = np.multiply( 1. / sigma * np.divide(1., np.sqrt(t)),\n",
    "        np.log(F/K) + (r + sigma**2 / 2.) * t  )\n",
    "    d2 = d1 - sigma * np.sqrt(t)\n",
    "    \n",
    "    P = (-F * norm.cdf(-d1) + norm.cdf(-d2) * K) * np.exp(-r * t)\n",
    "    return P"
   ]
  },
  {
   "cell_type": "code",
   "execution_count": 11,
   "id": "3b5bfb64",
   "metadata": {},
   "outputs": [
    {
     "name": "stdout",
     "output_type": "stream",
     "text": [
      "Model Price =  55.401289530269224\n",
      "Actual Call Midprice =  56.35\n"
     ]
    }
   ],
   "source": [
    "F = 1997.20          #  Futures Price   # https://en.wikipedia.org/wiki/Futures_contract - discount rate is risk free rate - dividend yield of underlying stock + ...\n",
    "K = 2010             #  Strike\n",
    "r = 0.0038           #  Risk-Free Rate\n",
    "t = 46 / 365         #  Time  # 46 days to expiration\n",
    "sigma = 0.2172       #  IV\n",
    "\n",
    "print( 'Model Price = ', future_call_price(sigma, F, K, r, t) )\n",
    "print('Actual Call Midprice = ', (56.00 + 56.70) / 2)   # computed from bid-ask spread on software like Bloomberg"
   ]
  },
  {
   "cell_type": "code",
   "execution_count": null,
   "id": "e37208e8",
   "metadata": {},
   "outputs": [],
   "source": []
  },
  {
   "cell_type": "code",
   "execution_count": null,
   "id": "d5c8a011",
   "metadata": {},
   "outputs": [],
   "source": []
  }
 ],
 "metadata": {
  "kernelspec": {
   "display_name": "Python 3 (ipykernel)",
   "language": "python",
   "name": "python3"
  },
  "language_info": {
   "codemirror_mode": {
    "name": "ipython",
    "version": 3
   },
   "file_extension": ".py",
   "mimetype": "text/x-python",
   "name": "python",
   "nbconvert_exporter": "python",
   "pygments_lexer": "ipython3",
   "version": "3.9.12"
  }
 },
 "nbformat": 4,
 "nbformat_minor": 5
}
